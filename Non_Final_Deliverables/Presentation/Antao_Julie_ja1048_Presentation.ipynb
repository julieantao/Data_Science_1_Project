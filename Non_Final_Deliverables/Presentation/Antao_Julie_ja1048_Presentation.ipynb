{
 "cells": [
  {
   "cell_type": "markdown",
   "id": "dae47b1a",
   "metadata": {
    "slideshow": {
     "slide_type": "slide"
    }
   },
   "source": [
    "# Do Search Terms Tell a Whole Story? An analysis of what Brazilians search for in wake of Presidential Elections\n",
    "\n",
    "### Julie Antão"
   ]
  },
  {
   "cell_type": "markdown",
   "id": "cb04d849",
   "metadata": {
    "slideshow": {
     "slide_type": "slide"
    }
   },
   "source": [
    "# Background\n",
    "\n",
    " - In 2021 Brazil had approximately 162 million internet users.\n",
    " - 43% of voters base their election results on internet results.\n",
    " - Approximately 97.06 percent of all web searches in Brazil were made on Google.\n",
    " "
   ]
  },
  {
   "cell_type": "markdown",
   "id": "7637a784",
   "metadata": {
    "slideshow": {
     "slide_type": "slide"
    }
   },
   "source": [
    "# Research Questions\n",
    " - What words would Brazilians be searching for?\n",
    " - Would they have any indication on who won the election?\n",
    " - Do they change from election to election?"
   ]
  },
  {
   "cell_type": "markdown",
   "id": "3fb0c123",
   "metadata": {
    "slideshow": {
     "slide_type": "slide"
    }
   },
   "source": [
    "# Methods Considered\n",
    "\n",
    "- Initial Plan:\n",
    "    - Using Google and Twitter to monitor chatter and predict winner \n",
    "- Second Option:\n",
    "    - Using Google only\n",
    "    - Breaking it down by region\n",
    "    - Manual Scraping\n",
    "    - *Pytrends* \n",
    " "
   ]
  },
  {
   "cell_type": "markdown",
   "id": "95d3e534",
   "metadata": {
    "slideshow": {
     "slide_type": "slide"
    }
   },
   "source": [
    "# Final Methods \n",
    "\n",
    "- Scraping Google using Pytrends \n",
    "- See search trends based on terms\n",
    "- Expanding search terms \n",
    "- Predicting results by sub-region"
   ]
  },
  {
   "cell_type": "markdown",
   "id": "f7fb1afe",
   "metadata": {
    "slideshow": {
     "slide_type": "slide"
    }
   },
   "source": [
    "# Preliminary Results"
   ]
  },
  {
   "cell_type": "code",
   "execution_count": 1,
   "id": "992de8f5",
   "metadata": {
    "slideshow": {
     "slide_type": "subslide"
    }
   },
   "outputs": [
    {
     "data": {
      "text/plain": [
       "<AxesSubplot:xlabel='Terms'>"
      ]
     },
     "execution_count": 1,
     "metadata": {},
     "output_type": "execute_result"
    },
    {
     "data": {
      "image/png": "[encoded data removed]",
      "text/plain": [
       "<Figure size 432x288 with 1 Axes>"
      ]
     },
     "metadata": {
      "needs_background": "light"
     },
     "output_type": "display_data"
    }
   ],
   "source": [
    "import matplotlib.pyplot as plt\n",
    "import numpy as np\n",
    "\n",
    "\n",
    "import pandas as pd\n",
    "FR_mentions = pd.read_csv ('/Users/juliezantao/Data_Science_1_Project/FR_Mentions_Data.csv')\n",
    "SR_mentions = pd.read_csv ('/Users/juliezantao/Data_Science_1_Project/SR_Mentions_Data.csv')\n",
    "\n",
    "FR_mentions.plot(x=\"Terms\", y=[\"2018\", \"2014\", \"2010\", \"2006\"], kind=\"bar\")\n"
   ]
  },
  {
   "cell_type": "code",
   "execution_count": 2,
   "id": "29f89148",
   "metadata": {},
   "outputs": [
    {
     "data": {
      "text/html": [
       "<div>\n",
       "<style scoped>\n",
       "    .dataframe tbody tr th:only-of-type {\n",
       "        vertical-align: middle;\n",
       "    }\n",
       "\n",
       "    .dataframe tbody tr th {\n",
       "        vertical-align: top;\n",
       "    }\n",
       "\n",
       "    .dataframe thead th {\n",
       "        text-align: right;\n",
       "    }\n",
       "</style>\n",
       "<table border=\"1\" class=\"dataframe\">\n",
       "  <thead>\n",
       "    <tr style=\"text-align: right;\">\n",
       "      <th></th>\n",
       "      <th>Terms</th>\n",
       "      <th>2018</th>\n",
       "      <th>2014</th>\n",
       "      <th>2010</th>\n",
       "      <th>2006</th>\n",
       "    </tr>\n",
       "  </thead>\n",
       "  <tbody>\n",
       "    <tr>\n",
       "      <th>0</th>\n",
       "      <td>Economia</td>\n",
       "      <td>58</td>\n",
       "      <td>59</td>\n",
       "      <td>42</td>\n",
       "      <td>58</td>\n",
       "    </tr>\n",
       "    <tr>\n",
       "      <th>1</th>\n",
       "      <td>Previdência</td>\n",
       "      <td>33</td>\n",
       "      <td>67</td>\n",
       "      <td>56</td>\n",
       "      <td>56</td>\n",
       "    </tr>\n",
       "    <tr>\n",
       "      <th>2</th>\n",
       "      <td>Bolsa Família</td>\n",
       "      <td>39</td>\n",
       "      <td>41</td>\n",
       "      <td>10</td>\n",
       "      <td>6</td>\n",
       "    </tr>\n",
       "    <tr>\n",
       "      <th>3</th>\n",
       "      <td>Desemprego</td>\n",
       "      <td>51</td>\n",
       "      <td>50</td>\n",
       "      <td>26</td>\n",
       "      <td>14</td>\n",
       "    </tr>\n",
       "    <tr>\n",
       "      <th>4</th>\n",
       "      <td>Plano Governo</td>\n",
       "      <td>50</td>\n",
       "      <td>10</td>\n",
       "      <td>4</td>\n",
       "      <td>6</td>\n",
       "    </tr>\n",
       "  </tbody>\n",
       "</table>\n",
       "</div>"
      ],
      "text/plain": [
       "           Terms  2018  2014  2010  2006\n",
       "0       Economia    58    59    42    58\n",
       "1    Previdência    33    67    56    56\n",
       "2  Bolsa Família    39    41    10     6\n",
       "3     Desemprego    51    50    26    14\n",
       "4  Plano Governo    50    10     4     6"
      ]
     },
     "execution_count": 2,
     "metadata": {},
     "output_type": "execute_result"
    }
   ],
   "source": [
    "FR_mentions"
   ]
  },
  {
   "cell_type": "code",
   "execution_count": 3,
   "id": "2bfff9a9",
   "metadata": {
    "slideshow": {
     "slide_type": "subslide"
    }
   },
   "outputs": [
    {
     "data": {
      "text/plain": [
       "<AxesSubplot:xlabel='Terms'>"
      ]
     },
     "execution_count": 3,
     "metadata": {},
     "output_type": "execute_result"
    },
    {
     "data": {
      "image/png": "[encoded data removed]",
      "text/plain": [
       "<Figure size 432x288 with 1 Axes>"
      ]
     },
     "metadata": {
      "needs_background": "light"
     },
     "output_type": "display_data"
    }
   ],
   "source": [
    "SR_mentions.plot(x=\"Terms\", y=[\"2018\", \"2014\", \"2010\", \"2006\"], kind=\"bar\")"
   ]
  },
  {
   "cell_type": "markdown",
   "id": "566d9e5e",
   "metadata": {
    "slideshow": {
     "slide_type": "slide"
    }
   },
   "source": [
    "# Preliminary Conclusions\n",
    "- Much to work out still\n",
    "- Similarity in Results\n",
    "- Parellels to see which parties won "
   ]
  },
  {
   "cell_type": "markdown",
   "id": "13d96376",
   "metadata": {
    "slideshow": {
     "slide_type": "slide"
    }
   },
   "source": [
    "# Lessons Thus Far\n",
    "- Problems with Google \n",
    "    - Ranking System\n",
    "    - API\n",
    "- Problems with similarity between years"
   ]
  },
  {
   "cell_type": "markdown",
   "id": "6bae3355",
   "metadata": {
    "slideshow": {
     "slide_type": "slide"
    }
   },
   "source": [
    "# Thank You!"
   ]
  }
 ],
 "metadata": {
  "celltoolbar": "Slideshow",
  "kernelspec": {
   "display_name": "Python 3 (ipykernel)",
   "language": "python",
   "name": "python3"
  },
  "language_info": {
   "codemirror_mode": {
    "name": "ipython",
    "version": 3
   },
   "file_extension": ".py",
   "mimetype": "text/x-python",
   "name": "python",
   "nbconvert_exporter": "python",
   "pygments_lexer": "ipython3",
   "version": "3.9.5"
  }
 },
 "nbformat": 4,
 "nbformat_minor": 5
}
