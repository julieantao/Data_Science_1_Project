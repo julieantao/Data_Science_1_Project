{
 "cells": [
  {
   "cell_type": "code",
   "execution_count": 1,
   "id": "73268acc",
   "metadata": {},
   "outputs": [],
   "source": [
    "#import packages\n",
    "from pytrends.request import TrendReq\n",
    "import csv\n",
    "import time\n",
    "import pandas as pd\n",
    "import warnings\n",
    "warnings.filterwarnings(\"ignore\")"
   ]
  },
  {
   "cell_type": "code",
   "execution_count": 2,
   "id": "e92b6ffb",
   "metadata": {},
   "outputs": [],
   "source": [
    "#Connecting to Google (WORKS)\n",
    "pytrends = TrendReq(hl='en-US', tz=360)"
   ]
  },
  {
   "cell_type": "code",
   "execution_count": 3,
   "id": "c81f336a",
   "metadata": {},
   "outputs": [],
   "source": [
    "#pytrends = TrendReq(hl='en-US', tz=360, timeout=(10,25), proxies=['https://35.201.123.31:880',], retries=2, backoff_factor=0.1, requests_args={'verify':False})"
   ]
  },
  {
   "cell_type": "code",
   "execution_count": 4,
   "id": "c6a652ab",
   "metadata": {},
   "outputs": [],
   "source": [
    "#Building Payload\n",
    "kw_list = [\"Economia\", \"Previdência\", \"Bolsa Família\", \"Desemprego\", \"Plano Governo\"]\n",
    "timeframes = ['2018-10-14 2018-10-28', '2018-9-23 2018-10-7', '2014-10-12 2014-10-26', '2014-9-21 2014-10-5', '2010-10-17 2010-10-31', '2010-9-19 2010-10-3', '2006-10-15 2006-10-29', '2006-9-17 2006-10-1']\n",
    "#segmented for national and most populous states in each region\n",
    "geos = [\"BR\",\"BR-AM\", \"BR-BA\", \"BR-MS\", \"BR-SP\", \"BR-RS\"] "
   ]
  },
  {
   "cell_type": "code",
   "execution_count": 5,
   "id": "a9345431",
   "metadata": {},
   "outputs": [],
   "source": [
    "#Building Payload continued \n",
    "pytrends.build_payload(\n",
    "kw_list,\n",
    "cat=0,\n",
    "timeframe=timeframes[0],\n",
    "geo=geos[0])"
   ]
  },
  {
   "cell_type": "code",
   "execution_count": 6,
   "id": "fcf50350",
   "metadata": {},
   "outputs": [],
   "source": [
    "BR_2018_2 = pytrends.interest_over_time()"
   ]
  },
  {
   "cell_type": "code",
   "execution_count": 7,
   "id": "beb332c9",
   "metadata": {},
   "outputs": [],
   "source": [
    "BR_2018_2 = BR_2018_2.drop('isPartial', 1)"
   ]
  },
  {
   "cell_type": "code",
   "execution_count": 8,
   "id": "2186c8c7",
   "metadata": {},
   "outputs": [],
   "source": [
    "election = [\"2018-2\", \"2018-1\", \"2014-2\",\"2014-1\", \"2010-2\",\"2010-1\", \"2006-2\", \"2006-1\"]\n",
    "regions = [\"BR\",\"BR-AM\", \"BR-BA\", \"BR-MS\", \"BR-SP\", \"BR-RS\"]"
   ]
  },
  {
   "cell_type": "code",
   "execution_count": 9,
   "id": "83c595b4",
   "metadata": {},
   "outputs": [],
   "source": [
    "election_round = [election[0]]*len(BR_2018_2.index)\n",
    "region= [regions[0]]*len(BR_2018_2.index)\n",
    "BR_2018_2['round'] = election_round\n",
    "BR_2018_2['region'] = region\n"
   ]
  },
  {
   "cell_type": "code",
   "execution_count": 10,
   "id": "22cd2ea0",
   "metadata": {},
   "outputs": [],
   "source": [
    "final_1 = BR_2018_2.groupby([\"round\",\"region\"]).mean()"
   ]
  },
  {
   "cell_type": "code",
   "execution_count": 11,
   "id": "9b483ff0",
   "metadata": {},
   "outputs": [
    {
     "data": {
      "text/html": [
       "<div>\n",
       "<style scoped>\n",
       "    .dataframe tbody tr th:only-of-type {\n",
       "        vertical-align: middle;\n",
       "    }\n",
       "\n",
       "    .dataframe tbody tr th {\n",
       "        vertical-align: top;\n",
       "    }\n",
       "\n",
       "    .dataframe thead th {\n",
       "        text-align: right;\n",
       "    }\n",
       "</style>\n",
       "<table border=\"1\" class=\"dataframe\">\n",
       "  <thead>\n",
       "    <tr style=\"text-align: right;\">\n",
       "      <th></th>\n",
       "      <th></th>\n",
       "      <th>Economia</th>\n",
       "      <th>Previdência</th>\n",
       "      <th>Bolsa Família</th>\n",
       "      <th>Desemprego</th>\n",
       "      <th>Plano Governo</th>\n",
       "    </tr>\n",
       "    <tr>\n",
       "      <th>round</th>\n",
       "      <th>region</th>\n",
       "      <th></th>\n",
       "      <th></th>\n",
       "      <th></th>\n",
       "      <th></th>\n",
       "      <th></th>\n",
       "    </tr>\n",
       "  </thead>\n",
       "  <tbody>\n",
       "    <tr>\n",
       "      <th>2018-2</th>\n",
       "      <th>BR</th>\n",
       "      <td>55.533333</td>\n",
       "      <td>10.6</td>\n",
       "      <td>18.066667</td>\n",
       "      <td>43.6</td>\n",
       "      <td>52.333333</td>\n",
       "    </tr>\n",
       "  </tbody>\n",
       "</table>\n",
       "</div>"
      ],
      "text/plain": [
       "                Economia  Previdência  Bolsa Família  Desemprego  \\\n",
       "round  region                                                      \n",
       "2018-2 BR      55.533333         10.6      18.066667        43.6   \n",
       "\n",
       "               Plano Governo  \n",
       "round  region                 \n",
       "2018-2 BR          52.333333  "
      ]
     },
     "execution_count": 11,
     "metadata": {},
     "output_type": "execute_result"
    }
   ],
   "source": [
    "final_1"
   ]
  },
  {
   "cell_type": "code",
   "execution_count": null,
   "id": "813695d0",
   "metadata": {},
   "outputs": [],
   "source": []
  },
  {
   "cell_type": "code",
   "execution_count": null,
   "id": "645b0548",
   "metadata": {},
   "outputs": [],
   "source": []
  },
  {
   "cell_type": "code",
   "execution_count": null,
   "id": "cd5435d8",
   "metadata": {},
   "outputs": [],
   "source": []
  },
  {
   "cell_type": "code",
   "execution_count": null,
   "id": "c963c073",
   "metadata": {},
   "outputs": [],
   "source": []
  },
  {
   "cell_type": "code",
   "execution_count": 12,
   "id": "c1f30f97",
   "metadata": {},
   "outputs": [],
   "source": [
    "# pulling_loop = []\n",
    "\n",
    "# for row in pulling_loop:\n",
    "#     n = 0\n",
    "    \n",
    "#     pytrends.build_payload(\n",
    "#     kw_list,\n",
    "#     cat=0,\n",
    "#     geo=geos[n += 1],\n",
    "#     timeframe=timeframes[n += 1],\n",
    "    \n",
    "#     data = pytrends.interest_over_time()\n",
    "#     )"
   ]
  }
 ],
 "metadata": {
  "kernelspec": {
   "display_name": "Python 3 (ipykernel)",
   "language": "python",
   "name": "python3"
  },
  "language_info": {
   "codemirror_mode": {
    "name": "ipython",
    "version": 3
   },
   "file_extension": ".py",
   "mimetype": "text/x-python",
   "name": "python",
   "nbconvert_exporter": "python",
   "pygments_lexer": "ipython3",
   "version": "3.9.5"
  }
 },
 "nbformat": 4,
 "nbformat_minor": 5
}
